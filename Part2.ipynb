{
 "cells": [
  {
   "cell_type": "markdown",
   "id": "941d5492",
   "metadata": {},
   "source": [
    "# Importing all the necessary libraries"
   ]
  },
  {
   "cell_type": "code",
   "execution_count": 1,
   "id": "ac5e38ed",
   "metadata": {},
   "outputs": [],
   "source": [
    "import pandas as pd\n",
    "from sklearn.model_selection import train_test_split,GridSearchCV\n",
    "from sklearn.preprocessing import MinMaxScaler,LabelEncoder,StandardScaler,Normalizer,OneHotEncoder\n",
    "from sklearn.feature_extraction.text import CountVectorizer\n",
    "from scipy.sparse import hstack\n",
    "from sklearn.metrics import f1_score,accuracy_score,roc_auc_score,precision_recall_fscore_support,classification_report\n",
    "from sklearn.linear_model import LogisticRegression\n",
    "from sklearn.naive_bayes import MultinomialNB\n",
    "from sklearn.tree import DecisionTreeClassifier\n",
    "from sklearn.ensemble import RandomForestClassifier,GradientBoostingClassifier\n",
    "import seaborn as sns\n",
    "from sklearn.metrics import roc_curve,auc\n",
    "import itertools\n",
    "import numpy as np\n",
    "from sklearn import metrics\n",
    "import matplotlib.pyplot as plt\n",
    "from sklearn.metrics import confusion_matrix"
   ]
  },
  {
   "cell_type": "code",
   "execution_count": 2,
   "id": "68979a70",
   "metadata": {},
   "outputs": [],
   "source": [
    "data=pd.read_csv('preprocessed_data9099.csv')"
   ]
  },
  {
   "cell_type": "code",
   "execution_count": 3,
   "id": "b791ca22",
   "metadata": {},
   "outputs": [
    {
     "data": {
      "text/plain": [
       "Index(['payment_sequential', 'payment_type', 'payment_installments',\n",
       "       'payment_value', 'customer_city', 'customer_state', 'price',\n",
       "       'freight_value', 'product_name_length', 'product_description_length',\n",
       "       'product_photos_qty', 'seller_state', 'product_category_name',\n",
       "       'delivery_days', 'estimated_days', 'ships_in', 'arrival_time',\n",
       "       'delivery_impression', 'estimated_del_impression', 'ship_impression',\n",
       "       'seller_popularity', 'existing_cust', 'Score'],\n",
       "      dtype='object')"
      ]
     },
     "execution_count": 3,
     "metadata": {},
     "output_type": "execute_result"
    }
   ],
   "source": [
    "data.columns"
   ]
  },
  {
   "cell_type": "code",
   "execution_count": 4,
   "id": "412ec926",
   "metadata": {},
   "outputs": [
    {
     "data": {
      "text/plain": [
       "(105208,)"
      ]
     },
     "execution_count": 4,
     "metadata": {},
     "output_type": "execute_result"
    }
   ],
   "source": [
    "data['Score'].shape"
   ]
  },
  {
   "cell_type": "code",
   "execution_count": 6,
   "id": "592923ac",
   "metadata": {},
   "outputs": [
    {
     "name": "stdout",
     "output_type": "stream",
     "text": [
      "<class 'pandas.core.frame.DataFrame'>\n",
      "RangeIndex: 105208 entries, 0 to 105207\n",
      "Data columns (total 23 columns):\n",
      " #   Column                      Non-Null Count   Dtype  \n",
      "---  ------                      --------------   -----  \n",
      " 0   payment_sequential          105208 non-null  int64  \n",
      " 1   payment_type                105208 non-null  object \n",
      " 2   payment_installments        105208 non-null  int64  \n",
      " 3   payment_value               105208 non-null  float64\n",
      " 4   customer_city               105208 non-null  object \n",
      " 5   customer_state              105208 non-null  object \n",
      " 6   price                       105208 non-null  float64\n",
      " 7   freight_value               105208 non-null  float64\n",
      " 8   product_name_length         105208 non-null  int64  \n",
      " 9   product_description_length  105208 non-null  int64  \n",
      " 10  product_photos_qty          105208 non-null  int64  \n",
      " 11  seller_state                105208 non-null  object \n",
      " 12  product_category_name       105208 non-null  object \n",
      " 13  delivery_days               105208 non-null  int64  \n",
      " 14  estimated_days              105208 non-null  int64  \n",
      " 15  ships_in                    105208 non-null  int64  \n",
      " 16  arrival_time                105208 non-null  object \n",
      " 17  delivery_impression         105208 non-null  object \n",
      " 18  estimated_del_impression    105208 non-null  object \n",
      " 19  ship_impression             105208 non-null  object \n",
      " 20  seller_popularity           105208 non-null  int64  \n",
      " 21  existing_cust               105208 non-null  int64  \n",
      " 22  Score                       105208 non-null  int64  \n",
      "dtypes: float64(3), int64(11), object(9)\n",
      "memory usage: 18.5+ MB\n"
     ]
    }
   ],
   "source": [
    "data.info()"
   ]
  },
  {
   "cell_type": "markdown",
   "id": "f3fe101a",
   "metadata": {},
   "source": [
    "# Splitting the dataset"
   ]
  },
  {
   "cell_type": "code",
   "execution_count": 7,
   "id": "03ca2b59",
   "metadata": {
    "scrolled": true
   },
   "outputs": [
    {
     "name": "stdout",
     "output_type": "stream",
     "text": [
      "(70489, 22) (34719, 22) (70489,) (34719,)\n"
     ]
    }
   ],
   "source": [
    "X = data.drop('Score',axis=1)\n",
    "Y = data.Score.values\n",
    "X_train,X_test,y_train,y_test = train_test_split(X,Y,test_size=.33,stratify=Y,random_state=42)\n",
    "print(X_train.shape,X_test.shape,y_train.shape,y_test.shape)"
   ]
  },
  {
   "cell_type": "markdown",
   "id": "ccd2df54",
   "metadata": {},
   "source": [
    "# Normalising all the numerical features"
   ]
  },
  {
   "cell_type": "code",
   "execution_count": 8,
   "id": "f4435035",
   "metadata": {},
   "outputs": [],
   "source": [
    "std_scaler = Normalizer()\n",
    "min_max = MinMaxScaler()\n",
    "#payment_sequential feature\n",
    "payment_sequential_train = std_scaler.fit_transform(X_train.payment_sequential.values.reshape(-1,1))\n",
    "payment_sequential_test = std_scaler.transform(X_test.payment_sequential.values.reshape(-1,1))\n",
    "#payment_installments feature\n",
    "payment_installments_train = std_scaler.fit_transform(X_train.payment_installments.values.reshape(-1,1))\n",
    "payment_installments_test = std_scaler.transform(X_test.payment_installments.values.reshape(-1,1))\n",
    "\n",
    "#Payment value feature\n",
    "payment_value_train = std_scaler.fit_transform(X_train.payment_value.values.reshape(-1,1))\n",
    "payment_value_test = std_scaler.transform(X_test.payment_value.values.reshape(-1,1))\n",
    "\n",
    "\n",
    "#price\n",
    "price_train = std_scaler.fit_transform(X_train.price.values.reshape(-1,1))\n",
    "price_test = std_scaler.transform(X_test.price.values.reshape(-1,1))\n",
    "\n",
    "#freight_value\n",
    "freight_value_train = std_scaler.fit_transform(X_train.freight_value.values.reshape(-1,1))\n",
    "freight_value_test = std_scaler.transform(X_test.freight_value.values.reshape(-1,1))\n",
    "\n",
    "#product_name_length\n",
    "product_name_length_train = std_scaler.fit_transform(X_train.product_name_length.values.reshape(-1,1))\n",
    "product_name_length_test = std_scaler.transform(X_test.product_name_length.values.reshape(-1,1))\n",
    "\n",
    "\n",
    "#product_description_length\n",
    "product_description_length_train = std_scaler.fit_transform(X_train.product_description_length.values.reshape(-1,1))\n",
    "product_description_length_test = std_scaler.transform(X_test.product_description_length.values.reshape(-1,1))\n",
    "\n",
    "\n",
    "#product_photos_qty\n",
    "product_photos_qty_train = std_scaler.fit_transform(X_train.product_photos_qty.values.reshape(-1,1))\n",
    "product_photos_qty_test = std_scaler.transform(X_test.product_photos_qty.values.reshape(-1,1))\n",
    "\n",
    "\n",
    "#delivery_days\n",
    "delivery_days_train = std_scaler.fit_transform(X_train.delivery_days.values.reshape(-1,1))\n",
    "delivery_days_test = std_scaler.transform(X_test.delivery_days.values.reshape(-1,1))\n",
    "\n",
    "\n",
    "#estimated_days\n",
    "estimated_days_train = std_scaler.fit_transform(X_train.estimated_days.values.reshape(-1,1))\n",
    "estimated_days_test = std_scaler.transform(X_test.estimated_days.values.reshape(-1,1))\n",
    "\n",
    "\n",
    "#ships_in\n",
    "ships_in_train = std_scaler.fit_transform(X_train.ships_in.values.reshape(-1,1))\n",
    "ships_in_test = std_scaler.transform(X_test.ships_in.values.reshape(-1,1))\n",
    "\n",
    "#seller_popularity\n",
    "seller_popularity_train = min_max.fit_transform(X_train.seller_popularity.values.reshape(-1,1))\n",
    "seller_popularity_test = min_max.transform(X_test.seller_popularity.values.reshape(-1,1))"
   ]
  },
  {
   "cell_type": "markdown",
   "id": "c5ccd79f",
   "metadata": {},
   "source": [
    "# NORMALIZING CATEGORICAL FEATURES"
   ]
  },
  {
   "cell_type": "code",
   "execution_count": 10,
   "id": "a305aaf3",
   "metadata": {},
   "outputs": [],
   "source": [
    "#initialising oneHotEncoder and CountVetors\n",
    "onehot = CountVectorizer()\n",
    "cat = OneHotEncoder()\n",
    "#payment_type\n",
    "payment_type_train = onehot.fit_transform(X_train.payment_type.values)\n",
    "payment_type_test = onehot.transform(X_test.payment_type.values)\n",
    "\n",
    "\n",
    "#customer_state\n",
    "customer_state_train = onehot.fit_transform(X_train.customer_state.values)\n",
    "customer_state_test = onehot.transform(X_test.customer_state.values)\n",
    "\n",
    "#seller_state\n",
    "seller_state_train = onehot.fit_transform(X_train.seller_state.values)\n",
    "seller_state_test = onehot.transform(X_test.seller_state.values)\n",
    "\n",
    "\n",
    "#product_category_name\n",
    "product_category_name_train = onehot.fit_transform(X_train.product_category_name.values)\n",
    "product_category_name_test = onehot.transform(X_test.product_category_name.values)\n",
    "\n",
    "\n",
    "#arrival_time\n",
    "arrival_time_train = onehot.fit_transform(X_train.arrival_time.values)\n",
    "arrival_time_test = onehot.transform(X_test.arrival_time.values)\n",
    "\n",
    "#delivery_impression\n",
    "delivery_impression_train = onehot.fit_transform(X_train.delivery_impression.values)\n",
    "delivery_impression_test = onehot.transform(X_test.delivery_impression.values)\n",
    "\n",
    "\n",
    "#estimated_del_impression\n",
    "estimated_del_impression_train = onehot.fit_transform(X_train.estimated_del_impression.values)\n",
    "estimated_del_impression_test = onehot.transform(X_test.estimated_del_impression.values)\n",
    "\n",
    "#ship_impression\n",
    "ship_impression_train = onehot.fit_transform(X_train.ship_impression.values)\n",
    "ship_impression_test = onehot.transform(X_test.ship_impression.values)\n",
    "\n",
    "\n",
    "#existing_cust\n",
    "existing_cust_train = cat.fit_transform(X_train.existing_cust.values.reshape(-1,1))\n",
    "existing_cust_test = cat.transform(X_test.existing_cust.values.reshape(-1,1))"
   ]
  },
  {
   "cell_type": "markdown",
   "id": "c78f8c0e",
   "metadata": {},
   "source": [
    "# Stacking the data"
   ]
  },
  {
   "cell_type": "code",
   "execution_count": 11,
   "id": "b4a3d351",
   "metadata": {
    "scrolled": false
   },
   "outputs": [
    {
     "name": "stdout",
     "output_type": "stream",
     "text": [
      "(70489, 153) (34719, 153)\n"
     ]
    }
   ],
   "source": [
    "#stacking up all the encoded features\n",
    "X_train_vec = hstack((payment_sequential_train,payment_installments_train,payment_value_train,price_train,\n",
    "                      freight_value_train,product_name_length_train,product_description_length_train,\n",
    "                      product_photos_qty_train,delivery_days_train,estimated_days_train,ships_in_train,\n",
    "                      payment_type_train,customer_state_train,seller_state_train,product_category_name_train,\n",
    "                      arrival_time_train,delivery_impression_train,estimated_del_impression_train,\n",
    "                     ship_impression_train,seller_popularity_train))\n",
    "\n",
    "X_test_vec = hstack((payment_sequential_test,payment_installments_test,payment_value_test,price_test,\n",
    "                      freight_value_test,product_name_length_test,product_description_length_test,\n",
    "                      product_photos_qty_test,delivery_days_test,estimated_days_test,ships_in_test,\n",
    "                      payment_type_test,customer_state_test,seller_state_test,product_category_name_test,\n",
    "                      arrival_time_test,delivery_impression_test,estimated_del_impression_test,\n",
    "                     ship_impression_test,seller_popularity_test))\n",
    "\n",
    "print(X_train_vec.shape,X_test_vec.shape)"
   ]
  },
  {
   "cell_type": "markdown",
   "id": "271835b8",
   "metadata": {},
   "source": [
    "# Naive Bayes"
   ]
  },
  {
   "cell_type": "markdown",
   "id": "df577579",
   "metadata": {},
   "source": [
    "# Hyper parameter Tuning"
   ]
  },
  {
   "cell_type": "code",
   "execution_count": 12,
   "id": "b71409e7",
   "metadata": {
    "scrolled": true
   },
   "outputs": [
    {
     "data": {
      "text/plain": [
       "GridSearchCV(cv=3, estimator=MultinomialNB(class_prior=[0.5, 0.5]),\n",
       "             param_grid={'alpha': [0.0001, 0.001, 0.01, 0.1, 1, 10, 100, 1000]},\n",
       "             refit=False, return_train_score=True, scoring='roc_auc')"
      ]
     },
     "execution_count": 12,
     "metadata": {},
     "output_type": "execute_result"
    }
   ],
   "source": [
    "naive = MultinomialNB(class_prior=[0.5,0.5])\n",
    "\n",
    "param = {'alpha': [0.0001,0.001,0.01,0.1,1,10,100,1000]}\n",
    "\n",
    "NB = GridSearchCV(naive,param,cv=3,refit=False,return_train_score=True,scoring='roc_auc')\n",
    "NB.fit(X_train_vec,y_train)"
   ]
  },
  {
   "cell_type": "markdown",
   "id": "955091d1",
   "metadata": {},
   "source": [
    "* GridSearchcv have been used to find the best one out of given parameters"
   ]
  },
  {
   "cell_type": "code",
   "execution_count": 13,
   "id": "54fee57c",
   "metadata": {
    "scrolled": true
   },
   "outputs": [
    {
     "data": {
      "text/plain": [
       "{'alpha': 0.1}"
      ]
     },
     "execution_count": 13,
     "metadata": {},
     "output_type": "execute_result"
    }
   ],
   "source": [
    "NB.best_params_"
   ]
  },
  {
   "cell_type": "markdown",
   "id": "4609081a",
   "metadata": {},
   "source": [
    "# Fitting the Model"
   ]
  },
  {
   "cell_type": "code",
   "execution_count": 14,
   "id": "0c09dd4d",
   "metadata": {},
   "outputs": [
    {
     "data": {
      "image/png": "[encoded data removed]",
      "text/plain": [
       "<Figure size 432x288 with 1 Axes>"
      ]
     },
     "metadata": {
      "needs_background": "light"
     },
     "output_type": "display_data"
    },
    {
     "name": "stdout",
     "output_type": "stream",
     "text": [
      "Best AUC for the model is 0.73 \n"
     ]
    }
   ],
   "source": [
    "clf = MultinomialNB(alpha=0.0001,class_prior=[0.5,0.5])\n",
    "clf.fit(X_train_vec,y_train)\n",
    "\n",
    "#predicted value of y probabilities\n",
    "y_pred_train = clf.predict_proba(X_train_vec)\n",
    "y_pred_test = clf.predict_proba(X_test_vec)\n",
    "\n",
    "#predicted values of Y labels\n",
    "pred_label_train = clf.predict(X_train_vec)\n",
    "pred_label_test = clf.predict(X_test_vec)\n",
    "\n",
    "#Confusion Matrix\n",
    "cf_matrix_train = confusion_matrix(y_train,pred_label_train)\n",
    "cf_matrix_test = confusion_matrix(y_test,pred_label_test)\n",
    "\n",
    "fpr_train,tpr_train,threshold_train = roc_curve(y_train,y_pred_train[:,1])\n",
    "fpr_test,tpr_test,threshold_test = roc_curve(y_test,y_pred_test[:,1])\n",
    "\n",
    "train_auc = round(auc(fpr_train,tpr_train),3)\n",
    "test_auc = round(auc(fpr_test,tpr_test),3)\n",
    "\n",
    "plt.plot(fpr_train,tpr_train,color='red',label='train-auc = '+str(train_auc))\n",
    "plt.plot(fpr_test,tpr_test,color='blue',label='test-auc = '+str(test_auc))\n",
    "plt.plot(np.array([0,1]),np.array([0,1]),color='black',label='random model auc = '+str(0.5))\n",
    "plt.xlabel('False Positive Rate(FPR)')\n",
    "plt.ylabel('True Positive Rate(TPR)')\n",
    "plt.title('ROC curve')\n",
    "plt.legend()\n",
    "plt.show()\n",
    "print('Best AUC for the model is {} '.format(test_auc))"
   ]
  },
  {
   "cell_type": "code",
   "execution_count": 15,
   "id": "1e997136",
   "metadata": {},
   "outputs": [
    {
     "data": {
      "image/png": "[encoded data removed]",
      "text/plain": [
       "<Figure size 720x576 with 2 Axes>"
      ]
     },
     "metadata": {
      "needs_background": "light"
     },
     "output_type": "display_data"
    }
   ],
   "source": [
    "#plot confusion matrix\n",
    "plt.figure(figsize=(10,8))\n",
    "sns.heatmap(cf_matrix_train/np.sum(cf_matrix_train), annot=True,fmt='.2%', cmap='Greens')\n",
    "plt.show()"
   ]
  },
  {
   "cell_type": "code",
   "execution_count": 16,
   "id": "704b72a1",
   "metadata": {},
   "outputs": [
    {
     "name": "stdout",
     "output_type": "stream",
     "text": [
      "Train F1_score for this model is :  0.8695\n",
      "Test F1_score for this model is :  0.869\n"
     ]
    }
   ],
   "source": [
    "#f1 score\n",
    "print('Train F1_score for this model is : ',round(f1_score(y_train,pred_label_train),4))\n",
    "print('Test F1_score for this model is : ',round(f1_score(y_test,pred_label_test),4))"
   ]
  },
  {
   "cell_type": "code",
   "execution_count": 17,
   "id": "1b689594",
   "metadata": {},
   "outputs": [
    {
     "name": "stdout",
     "output_type": "stream",
     "text": [
      "Train Accuracy score for this model :  0.7903\n",
      "Test Accuracy score for this model :  0.7896\n"
     ]
    }
   ],
   "source": [
    "print('Train Accuracy score for this model : ',round(accuracy_score(y_train,pred_label_train),4))\n",
    "print('Test Accuracy score for this model : ',round(accuracy_score(y_test,pred_label_test),4))"
   ]
  },
  {
   "cell_type": "code",
   "execution_count": 18,
   "id": "ce3c571c",
   "metadata": {
    "scrolled": false
   },
   "outputs": [
    {
     "name": "stdout",
     "output_type": "stream",
     "text": [
      "              precision    recall  f1-score   support\n",
      "\n",
      "           0       0.43      0.50      0.47      6353\n",
      "           1       0.88      0.85      0.87     28366\n",
      "\n",
      "    accuracy                           0.79     34719\n",
      "   macro avg       0.66      0.68      0.67     34719\n",
      "weighted avg       0.80      0.79      0.80     34719\n",
      "\n"
     ]
    }
   ],
   "source": [
    "print(classification_report(y_test,pred_label_test))"
   ]
  },
  {
   "cell_type": "markdown",
   "id": "5ad9df5e",
   "metadata": {},
   "source": [
    "* Confusion Matrix is a 2X2 matrix denoting the right and wrong prediction, which will help us analyse the rate of success.\n",
    "* Precision tells how many correctly predicted values are actually positive.\n",
    "* Recall describes how many positive cases our model predicts.\n",
    "* F1 Score tries to capture both precision and recall in single picture."
   ]
  },
  {
   "cell_type": "markdown",
   "id": "947c194a",
   "metadata": {},
   "source": [
    "# Observations\n"
   ]
  },
  {
   "cell_type": "markdown",
   "id": "8836eba3",
   "metadata": {},
   "source": [
    "1)Our main performane metric is f1 score as f1 score is a measure of a model’s accuracy on a dataset.Train and test  f1 score is nearly 87% and the AUC score for the test data is 0.73...\n",
    "\n",
    "2)As per the research done the dataset is highly imbalanced, though we have tried to balance it manually, as it is very huge dataset we have tried our best to balance it enough.\n",
    "\n",
    "3)That is the reason we have to consider AUC score and f1 score as performace metric\n",
    "\n",
    "4) Misclassification of False postive is more in case of naive bayes"
   ]
  },
  {
   "cell_type": "markdown",
   "id": "30ba2319",
   "metadata": {},
   "source": [
    "# Logistic Regression"
   ]
  },
  {
   "cell_type": "markdown",
   "id": "ef4dcf62",
   "metadata": {},
   "source": [
    "# Hyper parameter Tuning"
   ]
  },
  {
   "cell_type": "code",
   "execution_count": 19,
   "id": "08e44796",
   "metadata": {},
   "outputs": [
    {
     "data": {
      "text/plain": [
       "GridSearchCV(cv=3, estimator=LogisticRegression(max_iter=1000),\n",
       "             param_grid={'C': [0.0001, 0.001, 0.01, 0.1, 1, 10, 20, 30]},\n",
       "             refit=False, return_train_score=True, scoring='roc_auc')"
      ]
     },
     "execution_count": 19,
     "metadata": {},
     "output_type": "execute_result"
    }
   ],
   "source": [
    "#we have used max_iter 1000 as it was causing exception while fitting\n",
    "Logi = LogisticRegression(max_iter=1000,solver='lbfgs')\n",
    "\n",
    "param = {'C': [0.0001,0.001,0.01,0.1,1,10,20,30]}\n",
    "\n",
    "#for the bow based model\n",
    "LR = GridSearchCV(Logi,param,cv=3,refit=False,return_train_score=True,scoring='roc_auc')\n",
    "LR.fit(X_train_vec,y_train)"
   ]
  },
  {
   "cell_type": "code",
   "execution_count": 20,
   "id": "f0bf57e2",
   "metadata": {},
   "outputs": [
    {
     "data": {
      "text/plain": [
       "{'C': 1}"
      ]
     },
     "execution_count": 20,
     "metadata": {},
     "output_type": "execute_result"
    }
   ],
   "source": [
    "LR.best_params_"
   ]
  },
  {
   "cell_type": "code",
   "execution_count": 21,
   "id": "2f9b4b89",
   "metadata": {},
   "outputs": [
    {
     "data": {
      "text/plain": [
       "LogisticRegression(C=0.1, max_iter=1000)"
      ]
     },
     "execution_count": 21,
     "metadata": {},
     "output_type": "execute_result"
    }
   ],
   "source": [
    "#model\n",
    "clf = LogisticRegression(C=0.1,max_iter=1000,solver='lbfgs')\n",
    "clf.fit(X_train_vec,y_train)"
   ]
  },
  {
   "cell_type": "code",
   "execution_count": 22,
   "id": "19bf28c0",
   "metadata": {},
   "outputs": [
    {
     "data": {
      "image/png": "[encoded data removed]",
      "text/plain": [
       "<Figure size 432x288 with 1 Axes>"
      ]
     },
     "metadata": {
      "needs_background": "light"
     },
     "output_type": "display_data"
    },
    {
     "name": "stdout",
     "output_type": "stream",
     "text": [
      "Best AUC for the model is 0.738 \n"
     ]
    }
   ],
   "source": [
    "#predicted value of y probabilities\n",
    "y_pred_train = clf.predict_proba(X_train_vec)\n",
    "y_pred_test = clf.predict_proba(X_test_vec)\n",
    "\n",
    "#predicted values of Y labels\n",
    "pred_label_train = clf.predict(X_train_vec)\n",
    "pred_label_test = clf.predict(X_test_vec)\n",
    "\n",
    "#Confusion Matrix\n",
    "cf_matrix_train = confusion_matrix(y_train,pred_label_train)\n",
    "cf_matrix_test = confusion_matrix(y_test,pred_label_test)\n",
    "\n",
    "fpr_train,tpr_train,threshold_train = roc_curve(y_train,y_pred_train[:,1])\n",
    "fpr_test,tpr_test,threshold_test = roc_curve(y_test,y_pred_test[:,1])\n",
    "\n",
    "train_auc = round(auc(fpr_train,tpr_train),3)\n",
    "test_auc = round(auc(fpr_test,tpr_test),3)\n",
    "\n",
    "plt.plot(fpr_train,tpr_train,color='red',label='train-auc = '+str(train_auc))\n",
    "plt.plot(fpr_test,tpr_test,color='blue',label='test-auc = '+str(test_auc))\n",
    "plt.plot(np.array([0,1]),np.array([0,1]),color='black',label='random model auc = '+str(0.5))\n",
    "plt.xlabel('False Positive Rate(FPR)')\n",
    "plt.ylabel('True Positive Rate(TPR)')\n",
    "plt.title('ROC curve')\n",
    "plt.legend()\n",
    "plt.show()\n",
    "print('Best AUC for the model is {} '.format(test_auc))"
   ]
  },
  {
   "cell_type": "code",
   "execution_count": 23,
   "id": "63db7a76",
   "metadata": {},
   "outputs": [
    {
     "data": {
      "image/png": "[encoded data removed]",
      "text/plain": [
       "<Figure size 720x576 with 2 Axes>"
      ]
     },
     "metadata": {
      "needs_background": "light"
     },
     "output_type": "display_data"
    }
   ],
   "source": [
    "#plot confusion matrix\n",
    "plt.figure(figsize=(10,8))\n",
    "sns.heatmap(cf_matrix_train/np.sum(cf_matrix_train), annot=True,fmt='.2%', cmap='Greens')\n",
    "plt.show()\n"
   ]
  },
  {
   "cell_type": "code",
   "execution_count": 24,
   "id": "f89702b6",
   "metadata": {
    "scrolled": true
   },
   "outputs": [
    {
     "name": "stdout",
     "output_type": "stream",
     "text": [
      "Train F1_score for this model is :  0.9184\n",
      "Test F1_score for this model is :  0.9178\n"
     ]
    }
   ],
   "source": [
    "#f1 score\n",
    "print('Train F1_score for this model is : ',round(f1_score(y_train,pred_label_train),4))\n",
    "print('Test F1_score for this model is : ',round(f1_score(y_test,pred_label_test),4))"
   ]
  },
  {
   "cell_type": "code",
   "execution_count": 25,
   "id": "5befa33f",
   "metadata": {},
   "outputs": [
    {
     "name": "stdout",
     "output_type": "stream",
     "text": [
      "Train Accuracy score for this model :  0.8582\n",
      "Test Accuracy score for this model :  0.8574\n"
     ]
    }
   ],
   "source": [
    "print('Train Accuracy score for this model : ',round(accuracy_score(y_train,pred_label_train),4))\n",
    "print('Test Accuracy score for this model : ',round(accuracy_score(y_test,pred_label_test),4))"
   ]
  },
  {
   "cell_type": "code",
   "execution_count": 26,
   "id": "6ece42c3",
   "metadata": {
    "scrolled": true
   },
   "outputs": [
    {
     "name": "stdout",
     "output_type": "stream",
     "text": [
      "              precision    recall  f1-score   support\n",
      "\n",
      "           0       0.75      0.33      0.46      6353\n",
      "           1       0.87      0.98      0.92     28366\n",
      "\n",
      "    accuracy                           0.86     34719\n",
      "   macro avg       0.81      0.65      0.69     34719\n",
      "weighted avg       0.85      0.86      0.83     34719\n",
      "\n"
     ]
    }
   ],
   "source": [
    "print(classification_report(y_test,pred_label_test))"
   ]
  },
  {
   "cell_type": "markdown",
   "id": "24393dcd",
   "metadata": {},
   "source": [
    "# Observations"
   ]
  },
  {
   "cell_type": "markdown",
   "id": "87d99070",
   "metadata": {},
   "source": [
    "   1)Logistic regression performs considerably better than Naive bayes in        t terms of f1 score, however AUC score being almost the same.\n",
    "   \n",
    "   2)There was even issue related to precision in naive bayes it seems            resolved using logistic regression model.\n",
    "   \n",
    "   3)Misclassification of False positive reduced to 1.94% , which resulted         in   increase of f1 score of 92%.\n",
    "   \n",
    "   4)Accuracy is similar that signifies that model doesnt overfit."
   ]
  },
  {
   "cell_type": "markdown",
   "id": "6ad707b9",
   "metadata": {},
   "source": [
    "...->_<"
   ]
  },
  {
   "cell_type": "markdown",
   "id": "7c3e1fa0",
   "metadata": {},
   "source": [
    "# Decision Tree"
   ]
  },
  {
   "cell_type": "markdown",
   "id": "e1ec3d15",
   "metadata": {},
   "source": [
    "# Hyper Parmater tuning"
   ]
  },
  {
   "cell_type": "code",
   "execution_count": 27,
   "id": "5d339314",
   "metadata": {},
   "outputs": [
    {
     "data": {
      "text/plain": [
       "GridSearchCV(cv=3, estimator=DecisionTreeClassifier(class_weight='balanced'),\n",
       "             param_grid={'max_depth': [1, 5, 10, 15, 20],\n",
       "                         'min_samples_split': [5, 10, 100, 300, 500, 1000]},\n",
       "             refit=False, return_train_score=True, scoring='roc_auc')"
      ]
     },
     "execution_count": 27,
     "metadata": {},
     "output_type": "execute_result"
    }
   ],
   "source": [
    "#model initialize\n",
    "DT = DecisionTreeClassifier(class_weight='balanced')\n",
    "\n",
    "#hyper parameters\n",
    "param = {'max_depth':  [1, 5,10,15,20], 'min_samples_split': [5, 10, 100, 300,500,1000]}\n",
    "\n",
    "#Grid search CV\n",
    "DT = GridSearchCV(DT,param,cv=3,refit=False,return_train_score=True,scoring='roc_auc')\n",
    "DT.fit(X_train_vec,y_train)"
   ]
  },
  {
   "cell_type": "code",
   "execution_count": 28,
   "id": "06a04b62",
   "metadata": {},
   "outputs": [
    {
     "data": {
      "text/plain": [
       "{'max_depth': 20, 'min_samples_split': 1000}"
      ]
     },
     "execution_count": 28,
     "metadata": {},
     "output_type": "execute_result"
    }
   ],
   "source": [
    "DT.best_params_"
   ]
  },
  {
   "cell_type": "code",
   "execution_count": 29,
   "id": "e1eab731",
   "metadata": {},
   "outputs": [
    {
     "data": {
      "image/png": "[encoded data removed]",
      "text/plain": [
       "<Figure size 432x288 with 1 Axes>"
      ]
     },
     "metadata": {
      "needs_background": "light"
     },
     "output_type": "display_data"
    },
    {
     "name": "stdout",
     "output_type": "stream",
     "text": [
      "Best AUC for the model is 0.747 \n"
     ]
    }
   ],
   "source": [
    "#model\n",
    "clf = DecisionTreeClassifier(class_weight='balanced',max_depth=20,min_samples_split=300)\n",
    "clf.fit(X_train_vec,y_train)\n",
    "\n",
    "\n",
    "#predicted value of y probabilities\n",
    "y_pred_train = clf.predict_proba(X_train_vec)\n",
    "y_pred_test = clf.predict_proba(X_test_vec)\n",
    "\n",
    "#predicted values of Y labels\n",
    "pred_label_train = clf.predict(X_train_vec)\n",
    "pred_label_test = clf.predict(X_test_vec)\n",
    "\n",
    "#Confusion Matrix\n",
    "cf_matrix_train = confusion_matrix(y_train,pred_label_train)\n",
    "cf_matrix_test = confusion_matrix(y_test,pred_label_test)\n",
    "\n",
    "#taking the probabilit scores instead of the predicted label\n",
    "#predict_proba returns probabilty scores which is in the 2nd column thus taking the second column\n",
    "fpr_train,tpr_train,threshold_train = roc_curve(y_train,y_pred_train[:,1])\n",
    "fpr_test,tpr_test,threshold_test = roc_curve(y_test,y_pred_test[:,1])\n",
    "\n",
    "train_auc = round(auc(fpr_train,tpr_train),3)\n",
    "test_auc = round(auc(fpr_test,tpr_test),3)\n",
    "\n",
    "plt.plot(fpr_train,tpr_train,color='red',label='train-auc = '+str(train_auc))\n",
    "plt.plot(fpr_test,tpr_test,color='blue',label='test-auc = '+str(test_auc))\n",
    "plt.plot(np.array([0,1]),np.array([0,1]),color='black',label='random model auc = '+str(0.5))\n",
    "plt.xlabel('False Positive Rate(FPR)')\n",
    "plt.ylabel('True Positive Rate(TPR)')\n",
    "plt.title('ROC curve')\n",
    "plt.legend()\n",
    "plt.show()\n",
    "print('Best AUC for the model is {} '.format(test_auc))"
   ]
  },
  {
   "cell_type": "code",
   "execution_count": 30,
   "id": "43442228",
   "metadata": {},
   "outputs": [
    {
     "data": {
      "image/png": "[encoded data removed]",
      "text/plain": [
       "<Figure size 720x576 with 2 Axes>"
      ]
     },
     "metadata": {
      "needs_background": "light"
     },
     "output_type": "display_data"
    }
   ],
   "source": [
    "#plot confusion matrix\n",
    "plt.figure(figsize=(10,8))\n",
    "sns.heatmap(cf_matrix_train/np.sum(cf_matrix_train), annot=True,fmt='.2%', cmap='Greens')\n",
    "plt.show()"
   ]
  },
  {
   "cell_type": "code",
   "execution_count": 31,
   "id": "04e0e2ea",
   "metadata": {},
   "outputs": [
    {
     "name": "stdout",
     "output_type": "stream",
     "text": [
      "Train F1_score for this model is :  0.8591\n",
      "Test F1_score for this model is :  0.8498\n"
     ]
    }
   ],
   "source": [
    "#f1 score\n",
    "print('Train F1_score for this model is : ',round(f1_score(y_train,pred_label_train),4))\n",
    "print('Test F1_score for this model is : ',round(f1_score(y_test,pred_label_test),4))"
   ]
  },
  {
   "cell_type": "code",
   "execution_count": 32,
   "id": "f9788a0f",
   "metadata": {},
   "outputs": [
    {
     "name": "stdout",
     "output_type": "stream",
     "text": [
      "              precision    recall  f1-score   support\n",
      "\n",
      "           0       0.40      0.58      0.48      6353\n",
      "           1       0.90      0.81      0.85     28366\n",
      "\n",
      "    accuracy                           0.77     34719\n",
      "   macro avg       0.65      0.69      0.66     34719\n",
      "weighted avg       0.81      0.77      0.78     34719\n",
      "\n"
     ]
    }
   ],
   "source": [
    "print(classification_report(y_test,pred_label_test))"
   ]
  },
  {
   "cell_type": "code",
   "execution_count": 34,
   "id": "bbcddc4c",
   "metadata": {
    "scrolled": true
   },
   "outputs": [
    {
     "name": "stdout",
     "output_type": "stream",
     "text": [
      "Train Accuracy score for this model :  0.7812\n",
      "Test Accuracy score for this model :  0.7664\n"
     ]
    }
   ],
   "source": [
    "print('Train Accuracy score for this model : ',round(accuracy_score(y_train,pred_label_train),4))\n",
    "print('Test Accuracy score for this model : ',round(accuracy_score(y_test,pred_label_test),4))"
   ]
  },
  {
   "cell_type": "markdown",
   "id": "f973ebc2",
   "metadata": {},
   "source": [
    "# Observations\n",
    "1)Decision Tree does nothing better interms of both f1 score , auc score and accuracy as its values are 0.74 ,84%, 77%\n",
    "\n",
    " 2)It misclassfied False Positives to a lot.\n",
    "\n",
    "3)Model doesn't overfit but doesn't perform better either."
   ]
  },
  {
   "cell_type": "markdown",
   "id": "79754ccf",
   "metadata": {},
   "source": [
    "# Random Forest"
   ]
  },
  {
   "cell_type": "code",
   "execution_count": 35,
   "id": "9ecb5dde",
   "metadata": {},
   "outputs": [
    {
     "name": "stdout",
     "output_type": "stream",
     "text": [
      "Fitting 5 folds for each of 15 candidates, totalling 75 fits\n"
     ]
    },
    {
     "data": {
      "text/plain": [
       "GridSearchCV(cv=5, estimator=RandomForestClassifier(class_weight='balanced'),\n",
       "             n_jobs=-1,\n",
       "             param_grid={'max_depth': [5, 7, 10],\n",
       "                         'min_samples_split': [5, 10, 30, 50, 100]},\n",
       "             refit=False, return_train_score=True, scoring='roc_auc',\n",
       "             verbose=1)"
      ]
     },
     "execution_count": 35,
     "metadata": {},
     "output_type": "execute_result"
    }
   ],
   "source": [
    "param = { 'min_samples_split':[5,10,30,50,100],'max_depth':[5,7,10]}\n",
    "\n",
    "#Random forest classifier\n",
    "RFclf = RandomForestClassifier(class_weight='balanced')\n",
    "\n",
    "#using grid search cv to tune parameters\n",
    "RF = GridSearchCV(RFclf,param,cv=5,refit=False,n_jobs=-1,verbose=1,return_train_score=True,scoring='roc_auc')\n",
    "RF.fit(X_train_vec,y_train)"
   ]
  },
  {
   "cell_type": "code",
   "execution_count": 36,
   "id": "bdc142cb",
   "metadata": {},
   "outputs": [
    {
     "data": {
      "text/plain": [
       "{'max_depth': 10, 'min_samples_split': 5}"
      ]
     },
     "execution_count": 36,
     "metadata": {},
     "output_type": "execute_result"
    }
   ],
   "source": [
    "RF.best_params_"
   ]
  },
  {
   "cell_type": "code",
   "execution_count": 37,
   "id": "2197798c",
   "metadata": {},
   "outputs": [
    {
     "data": {
      "image/png": "[encoded data removed]",
      "text/plain": [
       "<Figure size 432x288 with 1 Axes>"
      ]
     },
     "metadata": {
      "needs_background": "light"
     },
     "output_type": "display_data"
    },
    {
     "name": "stdout",
     "output_type": "stream",
     "text": [
      "Best AUC for the model is 0.755 \n"
     ]
    }
   ],
   "source": [
    "#model\n",
    "clf = RandomForestClassifier(class_weight='balanced',max_depth=10,min_samples_split=5)\n",
    "clf.fit(X_train_vec,y_train)\n",
    "\n",
    "\n",
    "#predicted value of y probabilities\n",
    "y_pred_train = clf.predict_proba(X_train_vec)\n",
    "y_pred_test = clf.predict_proba(X_test_vec)\n",
    "\n",
    "#predicted values of Y labels\n",
    "pred_label_train = clf.predict(X_train_vec)\n",
    "pred_label_test = clf.predict(X_test_vec)\n",
    "\n",
    "#Confusion Matrix\n",
    "cf_matrix_train = confusion_matrix(y_train,pred_label_train)\n",
    "cf_matrix_test = confusion_matrix(y_test,pred_label_test)\n",
    "\n",
    "#taking the probabilit scores instead of the predicted label\n",
    "#predict_proba returns probabilty scores which is in the 2nd column thus taking the second column\n",
    "fpr_train,tpr_train,threshold_train = roc_curve(y_train,y_pred_train[:,1])\n",
    "fpr_test,tpr_test,threshold_test = roc_curve(y_test,y_pred_test[:,1])\n",
    "\n",
    "train_auc = round(auc(fpr_train,tpr_train),3)\n",
    "test_auc = round(auc(fpr_test,tpr_test),3)\n",
    "\n",
    "plt.plot(fpr_train,tpr_train,color='red',label='train-auc = '+str(train_auc))\n",
    "plt.plot(fpr_test,tpr_test,color='blue',label='test-auc = '+str(test_auc))\n",
    "plt.plot(np.array([0,1]),np.array([0,1]),color='black',label='random model auc = '+str(0.5))\n",
    "plt.xlabel('False Positive Rate(FPR)')\n",
    "plt.ylabel('True Positive Rate(TPR)')\n",
    "plt.title('ROC curve')\n",
    "plt.legend()\n",
    "plt.show()\n",
    "print('Best AUC for the model is {} '.format(test_auc))"
   ]
  },
  {
   "cell_type": "code",
   "execution_count": 45,
   "id": "6f99bb13",
   "metadata": {},
   "outputs": [
    {
     "data": {
      "image/png": "[encoded data removed]",
      "text/plain": [
       "<Figure size 720x576 with 2 Axes>"
      ]
     },
     "metadata": {
      "needs_background": "light"
     },
     "output_type": "display_data"
    }
   ],
   "source": [
    "#plot confusion matrix\n",
    "plt.figure(figsize=(10,8))\n",
    "sns.heatmap(cf_matrix_train/np.sum(cf_matrix_train), annot=True,fmt='.2%', cmap='Greens')\n",
    "plt.show()"
   ]
  },
  {
   "cell_type": "code",
   "execution_count": 46,
   "id": "6c50232b",
   "metadata": {},
   "outputs": [
    {
     "name": "stdout",
     "output_type": "stream",
     "text": [
      "Train F1_score for this model is :  0.9159\n",
      "Test F1_score for this model is :  0.9142\n"
     ]
    }
   ],
   "source": [
    "#f1 score\n",
    "print('Train F1_score for this model is : ',round(f1_score(y_train,pred_label_train),4))\n",
    "print('Test F1_score for this model is : ',round(f1_score(y_test,pred_label_test),4))"
   ]
  },
  {
   "cell_type": "code",
   "execution_count": 47,
   "id": "65367a3d",
   "metadata": {},
   "outputs": [
    {
     "name": "stdout",
     "output_type": "stream",
     "text": [
      "Train Accuracy score for this model :  0.857\n",
      "Test Accuracy score for this model :  0.8541\n"
     ]
    }
   ],
   "source": [
    "\n",
    "print('Train Accuracy score for this model : ',round(accuracy_score(y_train,pred_label_train),4))\n",
    "print('Test Accuracy score for this model : ',round(accuracy_score(y_test,pred_label_test),4))"
   ]
  },
  {
   "cell_type": "code",
   "execution_count": 48,
   "id": "b5d0ac9b",
   "metadata": {
    "scrolled": false
   },
   "outputs": [
    {
     "name": "stdout",
     "output_type": "stream",
     "text": [
      "              precision    recall  f1-score   support\n",
      "\n",
      "           0       0.66      0.42      0.51      6353\n",
      "           1       0.88      0.95      0.91     28366\n",
      "\n",
      "    accuracy                           0.85     34719\n",
      "   macro avg       0.77      0.69      0.71     34719\n",
      "weighted avg       0.84      0.85      0.84     34719\n",
      "\n"
     ]
    }
   ],
   "source": [
    "print(classification_report(y_test,pred_label_test))"
   ]
  },
  {
   "cell_type": "markdown",
   "id": "78095165",
   "metadata": {},
   "source": [
    "# Observations"
   ]
  },
  {
   "cell_type": "markdown",
   "id": "48eba43d",
   "metadata": {},
   "source": [
    "1)Random forest performs better than logistic regression in terms of f1 score and accuracy.\n",
    "\n",
    "2)It gives an f1 score of 91.59% and doesn't seem to overfit.\n",
    "\n",
    "3)Misclassification rate is still not that great.\n",
    "\n",
    "4)AUC is score is 0.757.\n",
    "\n",
    "5)Accuracy score is 85%."
   ]
  },
  {
   "cell_type": "markdown",
   "id": "52fe3087",
   "metadata": {},
   "source": [
    "# Linear SVM with hyper parameter tuning"
   ]
  },
  {
   "cell_type": "code",
   "execution_count": 51,
   "id": "71e9a8f7",
   "metadata": {},
   "outputs": [],
   "source": [
    "from sklearn.calibration import CalibratedClassifierCV"
   ]
  },
  {
   "cell_type": "code",
   "execution_count": 100,
   "id": "8a6f672a",
   "metadata": {
    "scrolled": true
   },
   "outputs": [
    {
     "name": "stdout",
     "output_type": "stream",
     "text": [
      "Train F1_score for this model is :  0.9168\n",
      "Test F1_score for this model is :  0.917\n",
      "              precision    recall  f1-score   support\n",
      "\n",
      "           0       0.72      0.35      0.47      6353\n",
      "           1       0.87      0.97      0.92     28366\n",
      "\n",
      "    accuracy                           0.86     34719\n",
      "   macro avg       0.80      0.66      0.69     34719\n",
      "weighted avg       0.84      0.86      0.84     34719\n",
      "\n"
     ]
    }
   ],
   "source": [
    "from sklearn.linear_model import SGDClassifier\n",
    "#SGD(Stochastic gradient descent classifier)\n",
    "alpha =[10 ** x for x in range(-5,2)]\n",
    "#hyperparameter for sgd\n",
    "for i in alpha:\n",
    "    clf = SGDClassifier(alpha=i,penalty='l2',loss='hinge',random_state=42)\n",
    "    clf.fit(X_train_vec,y_train)\n",
    "    sig_clf= CalibratedClassifierCV(clf, method='sigmoid')\n",
    "    sig_clf.fit(X_train_vec,y_train)\n",
    "    pred_label_train = sig_clf.predict(X_train_vec)\n",
    "    pred_label_test = sig_clf.predict(X_test_vec)\n",
    "    print('Train F1_score for this model is : ',round(f1_score(y_train,pred_label_train),4))\n",
    "    print('Test F1_score for this model is : ',round(f1_score(y_test,pred_label_test),4))\n",
    "    print(classification_report(y_test,pred_label_test))\n",
    "    break"
   ]
  },
  {
   "cell_type": "code",
   "execution_count": 91,
   "id": "ba8c78f2",
   "metadata": {},
   "outputs": [],
   "source": [
    "from sklearn.svm import SVC"
   ]
  },
  {
   "cell_type": "code",
   "execution_count": null,
   "id": "8d43f505",
   "metadata": {},
   "outputs": [],
   "source": [
    "svc = SVC()\n",
    "svc.fit(X_train_vec,y_train)\n",
    "svc.score(X_test_vec,y_test)"
   ]
  },
  {
   "cell_type": "code",
   "execution_count": null,
   "id": "453db38d",
   "metadata": {},
   "outputs": [],
   "source": [
    "ss=svc.predict(X_test_vec,y_test)\n",
    "print(ss[0:1000])"
   ]
  },
  {
   "cell_type": "code",
   "execution_count": null,
   "id": "d72fe334",
   "metadata": {},
   "outputs": [],
   "source": []
  },
  {
   "cell_type": "markdown",
   "id": "54c86c49",
   "metadata": {},
   "source": [
    "# Observations\n",
    "\n",
    "1)Linear SVM gives better scores with f1 score and accuracy\n",
    "\n",
    "2)Doesnt overfit as well\n",
    "\n",
    "3)The issue related to precision seems to act better when svm is used."
   ]
  },
  {
   "cell_type": "code",
   "execution_count": null,
   "id": "5507995d",
   "metadata": {},
   "outputs": [],
   "source": []
  },
  {
   "cell_type": "markdown",
   "id": "016ae86c",
   "metadata": {},
   "source": [
    "# naive bayes using hyper parameter tuning with calibration \n"
   ]
  },
  {
   "cell_type": "code",
   "execution_count": 83,
   "id": "e15c3b04",
   "metadata": {
    "scrolled": true
   },
   "outputs": [
    {
     "name": "stdout",
     "output_type": "stream",
     "text": [
      "Train F1_score for this model is :  0.9168\n",
      "Test F1_score for this model is :  0.9184\n",
      "              precision    recall  f1-score   support\n",
      "\n",
      "           0       0.76      0.33      0.46      6353\n",
      "           1       0.87      0.98      0.92     28366\n",
      "\n",
      "    accuracy                           0.86     34719\n",
      "   macro avg       0.81      0.65      0.69     34719\n",
      "weighted avg       0.85      0.86      0.83     34719\n",
      "\n"
     ]
    }
   ],
   "source": [
    "naivebayes=MultinomialNB(alpha=i,class_prior=[0.5,0.5])\n",
    "naivebayes.fit(X_train_vec,y_train)\n",
    "sig_clf = CalibratedClassifierCV(naivebayes, method='sigmoid')\n",
    "sig_clf.fit(X_train_vec,y_train)\n",
    "naive_bayes_predict_train=sig_clf.predict_proba(X_train_vec)\n",
    "naive_bayes_predict_test=sig_clf.predict_proba(X_test_vec)\n",
    "print('Train F1_score for this model is : ',round(f1_score(y_train,pred_label_train),4))\n",
    "print('Test F1_score for this model is : ',round(f1_score(y_test,pred_label_test),4))\n",
    "print(classification_report(y_test,pred_label_test))"
   ]
  },
  {
   "cell_type": "markdown",
   "id": "74efe166",
   "metadata": {},
   "source": [
    "1)Before the accuracy using naive bayes was 79% it has improved upto 86% when CalibratedclassifierCV  is used.,,\n",
    "\n",
    "CalibratedClassifierCV uses a cross-validation approach to fit both the classifier and the regressor\n",
    "\n",
    "F1 score was 86% currently proves to be close to 92%\n"
   ]
  },
  {
   "cell_type": "markdown",
   "id": "9dc137a1",
   "metadata": {},
   "source": [
    "# LOGISTIC REGRESSION WITH HYPERPARAMETER TUNING"
   ]
  },
  {
   "cell_type": "code",
   "execution_count": 77,
   "id": "7fc3b76f",
   "metadata": {
    "scrolled": true
   },
   "outputs": [
    {
     "name": "stdout",
     "output_type": "stream",
     "text": [
      "Train F1_score for this model is :  0.9168\n",
      "Test F1_score for this model is :  0.9184\n",
      "              precision    recall  f1-score   support\n",
      "\n",
      "           0       0.76      0.33      0.46      6353\n",
      "           1       0.87      0.98      0.92     28366\n",
      "\n",
      "    accuracy                           0.86     34719\n",
      "   macro avg       0.81      0.65      0.69     34719\n",
      "weighted avg       0.85      0.86      0.83     34719\n",
      "\n"
     ]
    }
   ],
   "source": [
    "from sklearn.linear_model import SGDClassifier\n",
    "alpha=[10 **x for x in range (-5, 2)]#hyperparam for SGD classifier.\n",
    "\n",
    "for i in alpha:\n",
    "    clf=SGDClassifier(alpha=i,penalty='l2', loss='log', random_state=42)\n",
    "    clf.fit(X_train_vec,y_train)\n",
    "    sig_clf =CalibratedClassifierCV(clf,method=\"sigmoid\")\n",
    "    sig_clf.fit(X_train_vec,y_train)\n",
    "    predict_y=sig_clf.predict_proba(X_train_vec)\n",
    "    pred_label_test = sig_clf.predict(X_test_vec)\n",
    "    print('Train F1_score for this model is : ',round(f1_score(y_train,pred_label_train),4))\n",
    "    print('Test F1_score for this model is : ',round(f1_score(y_test,pred_label_test),4))\n",
    "    print(classification_report(y_test,pred_label_test))\n",
    "    break"
   ]
  },
  {
   "cell_type": "markdown",
   "id": "97a39d5c",
   "metadata": {},
   "source": [
    "***There is no much of difference in the perfomance metrics with SGD(Stochasitc Gradient Descent) when compared with GridSearchCV as earlier before"
   ]
  },
  {
   "cell_type": "markdown",
   "id": "e756b454",
   "metadata": {},
   "source": [
    "# Results"
   ]
  },
  {
   "cell_type": "code",
   "execution_count": 104,
   "id": "b65043ba",
   "metadata": {},
   "outputs": [
    {
     "name": "stdout",
     "output_type": "stream",
     "text": [
      "Collecting prettytable==1.0.1\n",
      "  Downloading prettytable-1.0.1-py2.py3-none-any.whl (22 kB)\n",
      "Requirement already satisfied: setuptools in c:\\anaconda\\lib\\site-packages (from prettytable==1.0.1) (52.0.0.post20210125)\n",
      "Requirement already satisfied: wcwidth in c:\\anaconda\\lib\\site-packages (from prettytable==1.0.1) (0.2.5)\n",
      "Installing collected packages: prettytable\n",
      "Successfully installed prettytable-1.0.1\n",
      "+---------------------+----------+-------------+------------+\n",
      "|        Model        | F1_score |  AUC_score  |  Accuracy  |\n",
      "+---------------------+----------+-------------+------------+\n",
      "|     Naive Bayes     |  91.68   |     0.73    |     86     |\n",
      "| Logistic Regression |  91.84   |     73.8    |   86.05    |\n",
      "|    Decision Tree    |    85    |     74.7    |     77     |\n",
      "|    Random Forest    |    91    |     75.7    |     85     |\n",
      "+---------------------+----------+-------------+------------+\n"
     ]
    }
   ],
   "source": [
    "!pip install prettytable==1.0.1\n",
    "\n",
    "from prettytable import PrettyTable\n",
    "\n",
    "table = PrettyTable()\n",
    "table.field_names = [\"Model\", \"F1_score\", \" AUC_score \",\" Accuracy \"]\n",
    "table.add_row([ \"Naive Bayes\",'91.68','0.73','86'])\n",
    "table.add_row([\"Logistic Regression\",'91.84','73.8','86.05'])\n",
    "table.add_row([\"Decision Tree\",'85','74.7','77'])\n",
    "table.add_row([\"Random Forest\",'91','75.7','85',])\n",
    "\n",
    "print(table)\n"
   ]
  },
  {
   "cell_type": "markdown",
   "id": "5f939a9c",
   "metadata": {},
   "source": [
    "# Summary"
   ]
  },
  {
   "cell_type": "markdown",
   "id": "0496eb6f",
   "metadata": {},
   "source": [
    "1) Logistic regression performs better in comparision to rest of the model in terms of all the performance metric.\n",
    "\n",
    "2) f1 score has been our primary performance metric.\n"
   ]
  },
  {
   "cell_type": "code",
   "execution_count": 20,
   "id": "ef4a7e44",
   "metadata": {},
   "outputs": [
    {
     "name": "stderr",
     "output_type": "stream",
     "text": [
      "C:\\Anaconda\\lib\\site-packages\\sklearn\\linear_model\\_logistic.py:763: ConvergenceWarning: lbfgs failed to converge (status=1):\n",
      "STOP: TOTAL NO. of ITERATIONS REACHED LIMIT.\n",
      "\n",
      "Increase the number of iterations (max_iter) or scale the data as shown in:\n",
      "    https://scikit-learn.org/stable/modules/preprocessing.html\n",
      "Please also refer to the documentation for alternative solver options:\n",
      "    https://scikit-learn.org/stable/modules/linear_model.html#logistic-regression\n",
      "  n_iter_i = _check_optimize_result(\n"
     ]
    },
    {
     "data": {
      "text/plain": [
       "LogisticRegression()"
      ]
     },
     "execution_count": 20,
     "metadata": {},
     "output_type": "execute_result"
    }
   ],
   "source": [
    "log = LogisticRegression()\n",
    "log.fit(X_train_vec,y_train)"
   ]
  },
  {
   "cell_type": "code",
   "execution_count": 21,
   "id": "2b634941",
   "metadata": {
    "scrolled": true
   },
   "outputs": [
    {
     "data": {
      "text/plain": [
       "0.8569947291108615"
      ]
     },
     "execution_count": 21,
     "metadata": {},
     "output_type": "execute_result"
    }
   ],
   "source": [
    "log.score(X_test_vec,y_test)"
   ]
  },
  {
   "cell_type": "code",
   "execution_count": 22,
   "id": "63740219",
   "metadata": {
    "scrolled": true
   },
   "outputs": [
    {
     "data": {
      "text/plain": [
       "0.8569947291108615"
      ]
     },
     "execution_count": 22,
     "metadata": {},
     "output_type": "execute_result"
    }
   ],
   "source": [
    "log.score(X_test_vec,y_test)"
   ]
  },
  {
   "cell_type": "code",
   "execution_count": 23,
   "id": "7c7bff0c",
   "metadata": {
    "scrolled": true
   },
   "outputs": [
    {
     "name": "stdout",
     "output_type": "stream",
     "text": [
      "[1 1 1 1 1 1 1 1 1 0 1 1 1 1 0 1 0 1 1 1 1 1 1 1 1 1 1 1 1 1 1 1 1 1 1 1 1\n",
      " 1 1 1 1 1 1 1 1 1 0 1 1 1 1 1 0 1 1 1 1 1 1 1 1 1 1 1 1 1 1 1 1 1 1 1 1 1\n",
      " 1 1 0 1 1 1 1 1 1 1 1 1 1 1 1 1 0 1 1 1 1 1 1 1 1 1 1 1 1 1 1 1 1 1 1 1 1\n",
      " 1 1 1 1 1 1 1 1 0 1 1 1 1 1 1 1 1 1 1 1 1 0 1 1 1 0 1 1 1 1 1 1 1 1 0 1 1\n",
      " 1 1 0 1 1 1 0 1 1 1 1 1 1 1 1 1 0 1 1 1 1 1 0 1 1 0 1 1 1 1 1 1 1 1 1 1 1\n",
      " 1 1 0 1 0 1 1 1 1 1 1 1 1 1 1 1 0 1 1 1 1 1 1 1 0 1 1 1 1 1 1 1 1 1 1 1 1\n",
      " 1 1 1 1 1 1 1 1 1 1 1 1 1 1 1 1 1 1 1 1 1 1 1 1 1 1 1 1 1 1 1 1 1 0 1 1 1\n",
      " 1 0 1 1 1 1 1 0 1 1 1 1 1 1 1 1 1 1 1 1 1 1 0 1 1 1 1 1 1 1 1 1 1 1 1 1 1\n",
      " 1 1 1 1 1 1 1 1 1 1 1 1 0 1 1 1 1 1 1 1 1 1 1 1 1 1 1 1 1 1 1 1 0 1 1 1 1\n",
      " 1 1 1 1 1 1 0 0 1 1 1 1 1 1 1 1 0 1 1 1 1 1 1 1 1 1 1 1 1 1 1 1 1 1 1 1 1\n",
      " 1 1 0 0 1 1 1 1 1 1 1 1 1 1 1 1 1 1 1 1 1 1 1 1 1 1 1 0 1 1 1 1 1 1 1 1 1\n",
      " 1 0 1 1 1 1 0 1 1 0 1 1 1 1 1 1 1 0 0 1 1 1 1 1 1 1 1 1 0 1 1 1 1 1 1 1 1\n",
      " 1 1 1 1 0 0 1 1 1 1 0 1 1 1 1 1 0 1 1 1 1 1 1 1 1 1 1 1 0 1 1 0 1 1 1 1 1\n",
      " 1 1 1 1 1 1 1 1 1 1 1 1 1 1 1 1 1 1 0 1 1 1 1 1 1 1 1 1 1 1 1 1 1 1 1 1 1\n",
      " 1 1 1 1 1 1 1 1 1 1 1 1 1 1 1 1 1 1 1 1 1 1 1 1 1 1 1 1 1 1 1 1 1 1 1 1 0\n",
      " 1 1 1 1 1 1 1 1 1 0 1 1 1 1 1 1 1 1 1 1 1 1 1 1 1 1 1 1 0 1 1 1 1 1 1 1 1\n",
      " 1 1 1 1 0 1 1 1 1 0 1 0 1 0 1 1 1 1 1 1 0 1 1 1 1 1 1 1 1 1 1 1 1 0 1 1 1\n",
      " 1 1 1 1 1 1 1 1 1 0 1 1 1 1 1 1 1 1 1 1 1 1 1 1 1 1 1 1 1 1 1 1 1 1 0 1 1\n",
      " 1 1 1 0 1 1 1 1 1 1 1 1 1 1 1 1 1 0 1 1 1 1 1 1 1 1 1 1 1 1 1 1 1 1 0 1 1\n",
      " 1 1 1 1 1 1 1 1 1 1 1 1 0 1 1 1 1 1 1 1 1 1 1 1 1 0 1 0 1 1 1 1 0 1 1 1 1\n",
      " 1 1 1 1 1 1 1 1 1 1 1 1 1 1 1 1 1 1 1 1 1 1 1 1 1 0 1 1 1 1 1 1 0 1 1 1 1\n",
      " 1 1 1 1 1 1 1 1 1 1 1 1 1 1 1 1 1 1 1 1 1 1 1 1 1 1 1 1 1 1 1 0 1 0 1 1 1\n",
      " 1 1 1 1 1 1 1 1 1 1 1 1 1 1 1 1 1 1 1 1 1 1 1 1 1 0 1 1 1 1 1 1 1 1 1 1 1\n",
      " 1 1 1 1 1 1 1 1 1 1 1 0 1 1 1 1 1 1 1 1 1 1 1 0 1 1 1 1 1 1 1 1 1 1 1 1 1\n",
      " 1 1 1 1 1 1 0 1 1 0 1 1 1 1 1 1 1 1 1 1 0 1 1 1 1 1 1 1 1 1 1 1 1 1 1 1 1\n",
      " 1 1 1 1 1 1 1 1 1 0 1 1 1 1 1 0 1 1 1 1 1 1 1 1 1 1 1 1 1 1 1 1 1 1 1 1 1\n",
      " 1 1 1 1 1 1 1 0 1 1 1 1 1 1 1 1 1 1 1 1 0 1 1 1 1 1 1 1 1 1 1 1 1 1 1 1 1\n",
      " 1]\n"
     ]
    }
   ],
   "source": [
    "hh=log.predict(X_test_vec)\n",
    "print(hh[0:1000])"
   ]
  },
  {
   "cell_type": "markdown",
   "id": "a235ad79",
   "metadata": {},
   "source": [
    "# These are the predicted score for the first thousand unseen test data"
   ]
  }
 ],
 "metadata": {
  "kernelspec": {
   "display_name": "Python 3",
   "language": "python",
   "name": "python3"
  },
  "language_info": {
   "codemirror_mode": {
    "name": "ipython",
    "version": 3
   },
   "file_extension": ".py",
   "mimetype": "text/x-python",
   "name": "python",
   "nbconvert_exporter": "python",
   "pygments_lexer": "ipython3",
   "version": "3.8.8"
  }
 },
 "nbformat": 4,
 "nbformat_minor": 5
}
